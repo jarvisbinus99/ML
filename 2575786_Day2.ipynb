{
 "cells": [
  {
   "cell_type": "code",
   "execution_count": 7,
   "id": "11fcfba1",
   "metadata": {},
   "outputs": [
    {
     "name": "stdout",
     "output_type": "stream",
     "text": [
      "    Area  BHK  Bathroom      Furnishing  \\\n",
      "0  800.0    3       2.0  Semi-Furnished   \n",
      "1  750.0    2       2.0  Semi-Furnished   \n",
      "2  950.0    2       2.0       Furnished   \n",
      "3  600.0    2       2.0  Semi-Furnished   \n",
      "4  650.0    2       2.0  Semi-Furnished   \n",
      "\n",
      "                                            Locality  Parking     Price  \\\n",
      "0                                   Rohini Sector 25      1.0   6500000   \n",
      "1             J R Designers Floors, Rohini Sector 24      1.0   5000000   \n",
      "2                Citizen Apartment, Rohini Sector 13      1.0  15500000   \n",
      "3                                   Rohini Sector 24      1.0   4200000   \n",
      "4  Rohini Sector 24 carpet area 650 sqft status R...      1.0   6200000   \n",
      "\n",
      "          Status   Transaction           Type  Per_Sqft  \n",
      "0  Ready_to_move  New_Property  Builder_Floor       NaN  \n",
      "1  Ready_to_move  New_Property      Apartment    6667.0  \n",
      "2  Ready_to_move        Resale      Apartment    6667.0  \n",
      "3  Ready_to_move        Resale  Builder_Floor    6667.0  \n",
      "4  Ready_to_move  New_Property  Builder_Floor    6667.0  \n",
      "Area             0\n",
      "BHK              0\n",
      "Bathroom         2\n",
      "Furnishing       5\n",
      "Locality         0\n",
      "Parking         33\n",
      "Price            0\n",
      "Status           0\n",
      "Transaction      0\n",
      "Type             5\n",
      "Per_Sqft       241\n",
      "dtype: int64\n",
      "               Area          BHK     Bathroom      Parking         Price  \\\n",
      "count   1259.000000  1259.000000  1257.000000  1226.000000  1.259000e+03   \n",
      "mean    1466.452724     2.796664     2.556086     1.935563  2.130670e+07   \n",
      "std     1568.055040     0.954425     1.042220     6.279212  2.560115e+07   \n",
      "min       28.000000     1.000000     1.000000     1.000000  1.000000e+06   \n",
      "25%      800.000000     2.000000     2.000000     1.000000  5.700000e+06   \n",
      "50%     1200.000000     3.000000     2.000000     1.000000  1.420000e+07   \n",
      "75%     1700.000000     3.000000     3.000000     2.000000  2.550000e+07   \n",
      "max    24300.000000    10.000000     7.000000   114.000000  2.400000e+08   \n",
      "\n",
      "            Per_Sqft  \n",
      "count    1018.000000  \n",
      "mean    15690.136542  \n",
      "std     21134.738568  \n",
      "min      1259.000000  \n",
      "25%      6364.000000  \n",
      "50%     11291.500000  \n",
      "75%     18000.000000  \n",
      "max    183333.000000  \n"
     ]
    }
   ],
   "source": [
    "import pandas as pd\n",
    "data = pd.read_csv('Delhi house data.csv')\n",
    "\n",
    "print(data.isnull().sum())\n",
    "\n",
    "print(data.describe())\n",
    "from sklearn.model_selection import train_test_split\n",
    "\n",
    "X = data.drop('Price', axis=1) \n",
    "y = data['Price']\n",
    "\n",
    "X_train, X_test, y_train, y_test = train_test_split(X, y, test_size=0.2, random_state=42)\n",
    "\n"
   ]
  },
  {
   "cell_type": "code",
   "execution_count": 11,
   "id": "c906c7a5",
   "metadata": {
    "scrolled": false
   },
   "outputs": [
    {
     "name": "stdout",
     "output_type": "stream",
     "text": [
      "Predicted values: [ 1.34209894e+07  2.89516131e+07  1.17196656e+07  4.64796396e+07\n",
      " -7.23437166e+06  2.73786934e+07  6.18067090e+07  5.72125037e+07\n",
      "  9.75814219e+06  1.33469696e+07  4.23604404e+07 -6.01191520e+06\n",
      "  3.03764933e+07  1.02381400e+07  1.03132903e+07  4.36310097e+07\n",
      " -5.75397661e+06  2.79338415e+07  1.11263771e+07  4.38889483e+07\n",
      "  9.94319157e+06 -2.79318653e+06  2.83039403e+07  9.48797010e+06\n",
      "  2.70085946e+07  5.84758202e+07  2.79338415e+07  4.57394421e+07\n",
      " -4.31285254e+06  9.94319157e+06  1.03861795e+07  1.08684385e+07\n",
      "  1.11228851e+07  1.03132903e+07  2.84741857e+07 -5.75284607e+06\n",
      "  4.97168732e+07  1.03132903e+07  1.06833891e+07  2.73786934e+07\n",
      "  1.08684385e+07  9.86917182e+06  2.79338415e+07  6.25469066e+07\n",
      "  1.18665746e+07  2.80818810e+07  2.94142366e+07  2.56403598e+07\n",
      "  1.10153474e+07  5.01806272e+07  6.25469066e+07  4.47586804e+07\n",
      "  1.08684385e+07  1.10349829e+07  7.79548821e+06  1.13114264e+07\n",
      "  1.05353496e+07  2.32449996e+07  2.83039403e+07  1.09413277e+07\n",
      "  1.08684385e+07  1.03132903e+07  1.01837558e+07  2.77858020e+07\n",
      "  2.82484255e+07  9.94206102e+06  1.06833891e+07  6.32782731e+07\n",
      "  1.08314286e+07  1.09413277e+07  1.03861795e+07 -6.86427290e+06\n",
      "  2.79338415e+07 -5.45676706e+06  1.08684385e+07  1.05712289e+07\n",
      "  9.75814219e+06 -5.78728550e+06  4.74777757e+07  1.37170684e+07\n",
      "  4.62760853e+07  1.11300780e+07  1.11263771e+07  2.55281996e+07\n",
      "  2.90441378e+07  5.38816148e+07  1.04231894e+07  2.64534465e+07\n",
      "  1.29768709e+07 -4.92125440e+06  2.75637428e+07  2.84693542e+07\n",
      "  1.14235866e+07  2.90441378e+07  1.10534879e+07  2.79338415e+07\n",
      "  1.03861795e+07 -5.56892723e+06  6.20250673e+07  2.57132490e+07\n",
      "  9.75814219e+06  1.04243200e+07  4.88852816e+07  4.52213038e+07\n",
      "  1.04983397e+07  1.14235866e+07  6.18992337e+07  1.08684385e+07\n",
      "  1.12385372e+07  1.40871671e+07  5.38816148e+07  4.46291458e+07\n",
      "  1.17936854e+07  9.38804343e+06  1.11497135e+07  1.25338829e+07\n",
      "  4.23604404e+07  3.09168375e+07  4.38889483e+07  5.44652403e+07\n",
      "  1.16086360e+07  6.32945061e+07  1.19787348e+07  2.85815144e+07\n",
      "  2.71936440e+07  7.79548821e+06 -2.09225998e+06  2.75637428e+07\n",
      "  1.07562783e+07  2.73786934e+07  4.46291458e+07  8.32404080e+07\n",
      "  4.43712072e+07  1.19787348e+07  2.75637428e+07  2.86740390e+07\n",
      "  1.12385372e+07  1.12385372e+07  2.71936440e+07  1.00901005e+07\n",
      "  3.04493825e+07 -5.81432296e+06  2.77487921e+07  9.86917182e+06\n",
      "  2.83779600e+07  1.40871671e+07  4.49818702e+07  5.84018004e+07\n",
      "  2.71936440e+07  2.83039403e+07  5.01806272e+07  6.02411913e+07\n",
      "  4.38889483e+07  2.66384959e+07  3.00422739e+07  1.10534879e+07\n",
      "  1.06833891e+07  8.17920421e+07  3.01544341e+07  1.29768709e+07\n",
      "  6.32871041e+07  4.76084408e+07  1.14235866e+07  2.92291872e+07\n",
      "  3.53358167e+07  6.77282892e+07  3.15423044e+07  9.29664929e+06\n",
      "  2.73786934e+07  4.50251515e+07  4.64796396e+07  1.01364294e+08\n",
      "  4.38889483e+07  1.28635801e+07  2.67310206e+07  2.65126623e+07\n",
      "  1.17936854e+07 -6.01191520e+06  2.83039403e+07  1.27918215e+07\n",
      "  2.53431502e+07  2.80067307e+07  2.79338415e+07  1.22366733e+07\n",
      "  2.83039403e+07  1.11228851e+07  4.46291458e+07  1.37170684e+07\n",
      " -5.16068805e+06  2.86740390e+07  1.22366733e+07  4.46291458e+07\n",
      " -6.01191520e+06  1.09413277e+07  1.12385372e+07  3.03497722e+07\n",
      " -5.97490532e+06  1.14964758e+07  1.08684385e+07  1.10904977e+07\n",
      "  9.38804343e+06  2.26081204e+07  1.13225294e+07  1.05712289e+07\n",
      "  4.62945902e+07  4.32609109e+07  1.12385372e+07  1.31619202e+07\n",
      "  1.00901005e+07 -5.47475608e+06  4.51842940e+07 -5.80836088e+06\n",
      "  2.98657571e+07  4.49992446e+07 -5.56892723e+06  1.04983397e+07\n",
      "  1.57526116e+07  1.17492735e+07  1.02022607e+07 -5.75397661e+06\n",
      "  5.16647233e+07  9.75814219e+06  2.90441378e+07 -6.42015438e+06\n",
      "  1.05908644e+07  5.20311210e+07  2.75637428e+07  1.00234828e+07\n",
      "  9.60907677e+06 -5.64181644e+06  1.23106931e+07  9.16598417e+06\n",
      "  1.29768709e+07  1.08684385e+07  1.03132903e+07  2.85778134e+07\n",
      "  6.28048451e+07  2.86740390e+07  2.08611050e+07  2.83039403e+07\n",
      " -6.01191520e+06  2.67506560e+07  4.48141952e+07  3.70348794e+07\n",
      "  5.44652403e+07  1.11263771e+07  1.13114264e+07  7.79548821e+06\n",
      "  1.08684385e+07 -5.64181644e+06 -5.56892723e+06  1.03861795e+07]\n",
      "Mean Squared Error: 332006490622745.6\n",
      "R-squared (R2) Score: 0.5609775285767775\n"
     ]
    }
   ],
   "source": [
    "from sklearn.linear_model import Lasso\n",
    "from sklearn.impute import SimpleImputer\n",
    "from sklearn.model_selection import train_test_split\n",
    "\n",
    "X = data[['Area', 'BHK', 'Bathroom']] \n",
    "y = data['Price']\n",
    "imputer = SimpleImputer(strategy='mean')\n",
    "X = imputer.fit_transform(X)\n",
    "X_train, X_test, y_train, y_test = train_test_split(X, y, test_size=0.2, random_state=42)\n",
    "lasso_model = Lasso(alpha=0.1) \n",
    "lasso_model.fit(X_train, y_train)\n",
    "y_pred = lasso_model.predict(X_test)\n",
    "\n",
    "\n",
    "from sklearn.metrics import mean_squared_error, r2_score\n",
    "y_pred = lasso_model.predict(X_test)\n",
    "print(\"Predicted values:\", y_pred)\n",
    "mse = mean_squared_error(y_test, y_pred)\n",
    "r2 = r2_score(y_test, y_pred)\n",
    "\n",
    "print(\"Mean Squared Error:\", mse)\n",
    "print(\"R-squared (R2) Score:\", r2)\n",
    "\n"
   ]
  },
  {
   "cell_type": "code",
   "execution_count": 12,
   "id": "7e9350fe",
   "metadata": {},
   "outputs": [
    {
     "name": "stdout",
     "output_type": "stream",
     "text": [
      "Mean Absolute Error (MAE): 10723912.614744242\n",
      "Mean Squared Error (MSE): 332006490622745.6\n",
      "Root Mean Squared Error (RMSE): 18221045.267018728\n"
     ]
    }
   ],
   "source": [
    "from sklearn.metrics import mean_absolute_error, mean_squared_error\n",
    "import numpy as np\n",
    "mae = mean_absolute_error(y_test, y_pred)\n",
    "mse = mean_squared_error(y_test, y_pred)\n",
    "rmse = np.sqrt(mse)\n",
    "\n",
    "print(\"Mean Absolute Error (MAE):\", mae)\n",
    "print(\"Mean Squared Error (MSE):\", mse)\n",
    "print(\"Root Mean Squared Error (RMSE):\", rmse)\n"
   ]
  },
  {
   "cell_type": "code",
   "execution_count": 14,
   "id": "e88c1d6f",
   "metadata": {},
   "outputs": [],
   "source": [
    "from sklearn.linear_model import Ridge\n",
    "X = data[['Area', 'BHK', 'Bathroom']]  \n",
    "y = data['Price']\n",
    "ridge_model = Ridge(alpha=1.0) \n",
    "\n",
    "ridge_model.fit(X_train, y_train)\n",
    "y_pred_ridge = ridge_model.predict(X_test)\n",
    "ridge_model = Ridge(alpha=1.0) \n",
    "ridge_model.fit(X_train, y_train)\n",
    "y_pred_ridge = ridge_model.predict(X_test)\n"
   ]
  },
  {
   "cell_type": "code",
   "execution_count": 15,
   "id": "a585ee9c",
   "metadata": {},
   "outputs": [
    {
     "name": "stdout",
     "output_type": "stream",
     "text": [
      "Ridge Regression Evaluation Metrics:\n",
      "Mean Absolute Error (MAE): 10719582.906372365\n",
      "Mean Squared Error (MSE): 331923582803402.5\n",
      "Root Mean Squared Error (RMSE): 18218770.06834991\n"
     ]
    }
   ],
   "source": [
    "from sklearn.metrics import mean_absolute_error, mean_squared_error\n",
    "import numpy as np\n",
    "mae_ridge = mean_absolute_error(y_test, y_pred_ridge)\n",
    "mse_ridge = mean_squared_error(y_test, y_pred_ridge)\n",
    "rmse_ridge = np.sqrt(mse_ridge)\n",
    "\n",
    "print(\"Ridge Regression Evaluation Metrics:\")\n",
    "print(\"Mean Absolute Error (MAE):\", mae_ridge)\n",
    "print(\"Mean Squared Error (MSE):\", mse_ridge)\n",
    "print(\"Root Mean Squared Error (RMSE):\", rmse_ridge)\n"
   ]
  },
  {
   "cell_type": "code",
   "execution_count": 18,
   "id": "7645502d",
   "metadata": {},
   "outputs": [
    {
     "name": "stdout",
     "output_type": "stream",
     "text": [
      "Lasso Regression Evaluation Metrics:\n",
      "Mean Absolute Error (MAE): 10723912.614744242\n",
      "Mean Squared Error (MSE): 332006490622745.6\n",
      "Root Mean Squared Error (RMSE): 18221045.267018728\n",
      "R-squared (R2) Score: 0.5609775285767775\n",
      "\n",
      "Ridge Regression Evaluation Metrics:\n",
      "Mean Absolute Error (MAE): 10719582.906372365\n",
      "Mean Squared Error (MSE): 331923582803402.5\n",
      "Root Mean Squared Error (RMSE): 18218770.06834991\n",
      "R-squared (R2) Score: 0.5610871601556062\n"
     ]
    }
   ],
   "source": [
    "from sklearn.metrics import mean_absolute_error, mean_squared_error, r2_score\n",
    "mae_lasso = mean_absolute_error(y_test, y_pred)\n",
    "mse_lasso = mean_squared_error(y_test, y_pred)\n",
    "rmse_lasso = np.sqrt(mse_lasso)\n",
    "r2_lasso = r2_score(y_test, y_pred)\n",
    "\n",
    "\n",
    "mae_ridge = mean_absolute_error(y_test, y_pred_ridge)\n",
    "mse_ridge = mean_squared_error(y_test, y_pred_ridge)\n",
    "rmse_ridge = np.sqrt(mse_ridge)\n",
    "r2_ridge = r2_score(y_test, y_pred_ridge)\n",
    "\n",
    "print(\"Lasso Regression Evaluation Metrics:\")\n",
    "print(\"Mean Absolute Error (MAE):\", mae_lasso)\n",
    "print(\"Mean Squared Error (MSE):\", mse_lasso)\n",
    "print(\"Root Mean Squared Error (RMSE):\", rmse_lasso)\n",
    "print(\"R-squared (R2) Score:\", r2_lasso)\n",
    "\n",
    "print(\"\\nRidge Regression Evaluation Metrics:\")\n",
    "print(\"Mean Absolute Error (MAE):\", mae_ridge)\n",
    "print(\"Mean Squared Error (MSE):\", mse_ridge)\n",
    "print(\"Root Mean Squared Error (RMSE):\", rmse_ridge)\n",
    "print(\"R-squared (R2) Score:\", r2_ridge)\n"
   ]
  }
 ],
 "metadata": {
  "kernelspec": {
   "display_name": "Python 3 (ipykernel)",
   "language": "python",
   "name": "python3"
  },
  "language_info": {
   "codemirror_mode": {
    "name": "ipython",
    "version": 3
   },
   "file_extension": ".py",
   "mimetype": "text/x-python",
   "name": "python",
   "nbconvert_exporter": "python",
   "pygments_lexer": "ipython3",
   "version": "3.9.12"
  }
 },
 "nbformat": 4,
 "nbformat_minor": 5
}
