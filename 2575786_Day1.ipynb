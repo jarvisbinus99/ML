{
 "cells": [
  {
   "cell_type": "code",
   "execution_count": 29,
   "id": "33487639",
   "metadata": {},
   "outputs": [],
   "source": [
    "import pandas as pd\n",
    "from sklearn.model_selection import train_test_split\n",
    "import matplotlib.pyplot as plt\n",
    "import seaborn as sns\n",
    "data = pd.read_csv('Housing.csv')"
   ]
  },
  {
   "cell_type": "code",
   "execution_count": 24,
   "id": "9ec419fa",
   "metadata": {},
   "outputs": [
    {
     "name": "stdout",
     "output_type": "stream",
     "text": [
      "      price  area  bedrooms  bathrooms  stories mainroad guestroom basement  \\\n",
      "0  13300000  7420         4          2        3      yes        no       no   \n",
      "1  12250000  8960         4          4        4      yes        no       no   \n",
      "2  12250000  9960         3          2        2      yes        no      yes   \n",
      "3  12215000  7500         4          2        2      yes        no      yes   \n",
      "4  11410000  7420         4          1        2      yes       yes      yes   \n",
      "\n",
      "  hotwaterheating airconditioning  parking prefarea furnishingstatus  \n",
      "0              no             yes        2      yes        furnished  \n",
      "1              no             yes        3       no        furnished  \n",
      "2              no              no        2      yes   semi-furnished  \n",
      "3              no             yes        3      yes        furnished  \n",
      "4              no             yes        2       no        furnished  \n"
     ]
    }
   ],
   "source": [
    "print(data.head())"
   ]
  },
  {
   "cell_type": "code",
   "execution_count": 25,
   "id": "0a7d920b",
   "metadata": {},
   "outputs": [
    {
     "name": "stdout",
     "output_type": "stream",
     "text": [
      "<class 'pandas.core.frame.DataFrame'>\n",
      "RangeIndex: 545 entries, 0 to 544\n",
      "Data columns (total 13 columns):\n",
      " #   Column            Non-Null Count  Dtype \n",
      "---  ------            --------------  ----- \n",
      " 0   price             545 non-null    int64 \n",
      " 1   area              545 non-null    int64 \n",
      " 2   bedrooms          545 non-null    int64 \n",
      " 3   bathrooms         545 non-null    int64 \n",
      " 4   stories           545 non-null    int64 \n",
      " 5   mainroad          545 non-null    object\n",
      " 6   guestroom         545 non-null    object\n",
      " 7   basement          545 non-null    object\n",
      " 8   hotwaterheating   545 non-null    object\n",
      " 9   airconditioning   545 non-null    object\n",
      " 10  parking           545 non-null    int64 \n",
      " 11  prefarea          545 non-null    object\n",
      " 12  furnishingstatus  545 non-null    object\n",
      "dtypes: int64(6), object(7)\n",
      "memory usage: 55.5+ KB\n",
      "None\n"
     ]
    }
   ],
   "source": [
    "print(data.info())"
   ]
  },
  {
   "cell_type": "code",
   "execution_count": 26,
   "id": "6ff37ce4",
   "metadata": {},
   "outputs": [
    {
     "name": "stdout",
     "output_type": "stream",
     "text": [
      "              price          area    bedrooms   bathrooms     stories  \\\n",
      "count  5.450000e+02    545.000000  545.000000  545.000000  545.000000   \n",
      "mean   4.766729e+06   5150.541284    2.965138    1.286239    1.805505   \n",
      "std    1.870440e+06   2170.141023    0.738064    0.502470    0.867492   \n",
      "min    1.750000e+06   1650.000000    1.000000    1.000000    1.000000   \n",
      "25%    3.430000e+06   3600.000000    2.000000    1.000000    1.000000   \n",
      "50%    4.340000e+06   4600.000000    3.000000    1.000000    2.000000   \n",
      "75%    5.740000e+06   6360.000000    3.000000    2.000000    2.000000   \n",
      "max    1.330000e+07  16200.000000    6.000000    4.000000    4.000000   \n",
      "\n",
      "          parking  \n",
      "count  545.000000  \n",
      "mean     0.693578  \n",
      "std      0.861586  \n",
      "min      0.000000  \n",
      "25%      0.000000  \n",
      "50%      0.000000  \n",
      "75%      1.000000  \n",
      "max      3.000000  \n"
     ]
    }
   ],
   "source": [
    "print(data.describe())\n"
   ]
  },
  {
   "cell_type": "code",
   "execution_count": 27,
   "id": "b8fd8a1b",
   "metadata": {},
   "outputs": [
    {
     "data": {
      "text/plain": [
       "price               0\n",
       "area                0\n",
       "bedrooms            0\n",
       "bathrooms           0\n",
       "stories             0\n",
       "mainroad            0\n",
       "guestroom           0\n",
       "basement            0\n",
       "hotwaterheating     0\n",
       "airconditioning     0\n",
       "parking             0\n",
       "prefarea            0\n",
       "furnishingstatus    0\n",
       "dtype: int64"
      ]
     },
     "execution_count": 27,
     "metadata": {},
     "output_type": "execute_result"
    }
   ],
   "source": [
    "data.isna().sum()\n"
   ]
  },
  {
   "cell_type": "code",
   "execution_count": 28,
   "id": "de389455",
   "metadata": {},
   "outputs": [
    {
     "data": {
      "text/plain": [
       "array([[<AxesSubplot:title={'center':'price'}>,\n",
       "        <AxesSubplot:title={'center':'area'}>],\n",
       "       [<AxesSubplot:title={'center':'bedrooms'}>,\n",
       "        <AxesSubplot:title={'center':'bathrooms'}>],\n",
       "       [<AxesSubplot:title={'center':'stories'}>,\n",
       "        <AxesSubplot:title={'center':'parking'}>]], dtype=object)"
      ]
     },
     "execution_count": 28,
     "metadata": {},
     "output_type": "execute_result"
    },
    {
     "data": {
      "image/png": "[encoded data removed]",
      "text/plain": [
       "<Figure size 432x288 with 6 Axes>"
      ]
     },
     "metadata": {
      "needs_background": "light"
     },
     "output_type": "display_data"
    }
   ],
   "source": [
    "data.hist()"
   ]
  },
  {
   "cell_type": "code",
   "execution_count": 30,
   "id": "06489603",
   "metadata": {},
   "outputs": [],
   "source": [
    "data.fillna(data.mean(numeric_only=True), inplace=True)  \n",
    "X = data.drop('parking', axis=1)  \n",
    "y = data['parking'] \n",
    "X_train, X_test, y_train, y_test = train_test_split(X, y, test_size=0.2, random_state=42)"
   ]
  },
  {
   "cell_type": "code",
   "execution_count": 12,
   "id": "12fd650c",
   "metadata": {},
   "outputs": [
    {
     "name": "stdout",
     "output_type": "stream",
     "text": [
      "Training Started.....\n",
      "\n",
      "\n",
      "\n",
      "\n",
      "Training completed....\n",
      "\n",
      "Testing invoked\n",
      "predicted Total Payment\n",
      " [5024060.33139816 5279498.23656143 4232202.82539203 4640903.47365326\n",
      " 4198144.43803692 5373158.80178796 6139472.51727777 4636646.17523387\n",
      " 3891618.951841   3661724.83719406 6165016.3077941  4187075.46214652\n",
      " 4095969.27597162 3832016.77396957 4202401.73645631 4057653.59019713\n",
      " 3363713.94783691 5066633.31559204 5002773.83930122 5066633.31559204\n",
      " 4649418.07049203 5417860.43519154 4065742.45719396 4130027.66332672\n",
      " 6024525.4599543  6752523.48966962 3827759.47555018 3789443.78977569\n",
      " 8131888.17755128 3789443.78977569 4215173.63171447 3840531.37080835\n",
      " 5066633.31559204 5328457.16838439 4545114.25921703 4470611.53687774\n",
      " 4490195.10960693 3866075.16132467 3993794.11390631 3698763.33344273\n",
      " 5909578.40263083 4057653.59019713 5245439.84920633 4300319.60010223\n",
      " 5385930.69704613 5017674.38376908 5066633.31559204 4487640.7305553\n",
      " 5939379.49156655 3789443.78977569 5694584.83245175 3789443.78977569\n",
      " 5820175.13582369 4428038.55268387 4061910.88861651 3751128.1040012\n",
      " 4960200.85510734 3534005.88461242 5258211.74446449 4130027.66332672\n",
      " 3866075.16132467 3421187.47649864 5253954.4460451  4623874.27997571\n",
      " 4794166.21675122 4112998.46964917 5322071.22075531 3789443.78977569\n",
      " 6088384.93624512 4938914.36301041 3725584.31348487 5219896.05869\n",
      " 6088384.93624512 6982417.60431656 3654913.15972304 4325863.39061856\n",
      " 4057653.59019713 4562143.45289458 5066633.31559204 4768622.42623489\n",
      " 5219896.05869    4249232.01906958 4853768.39462265 5351872.30969102\n",
      " 3235994.99525527 5049604.12191449 3704297.82138794 3981022.21864814\n",
      " 5671169.69114511 5066633.31559204 3323269.61285272 5939379.49156655\n",
      " 4832481.90252571 3963993.02497059 6165016.3077941  4087454.67913284\n",
      " 4993407.78277857 4981487.34720428 4853768.39462265 5322071.22075531\n",
      " 3891618.951841   4470611.53687774 3776671.89451753 3917162.74235733\n",
      " 5066633.31559204 5462562.06859511 5066633.31559204 5066633.31559204\n",
      " 5109206.29978592]\n",
      "\n",
      " Testing is also completed....\n",
      "\n"
     ]
    }
   ],
   "source": [
    "import pandas as pd\n",
    "from sklearn.model_selection import train_test_split\n",
    "from sklearn.linear_model import LinearRegression\n",
    "from sklearn.metrics import r2_score\n",
    "\n",
    "data = pd.read_csv('Housing.csv')\n",
    "\n",
    "x = data[['area']]  \n",
    "y = data['price'] \n",
    "\n",
    "xtrain, xtest, ytrain, ytest = train_test_split(X, y, test_size=0.2, random_state=42)\n",
    "\n",
    "\n",
    "from sklearn.linear_model import LinearRegression\n",
    "lin_reg=LinearRegression()\n",
    "print(\"Training Started.....\\n\")\n",
    "print()\n",
    "lin_reg.fit(xtrain,ytrain)\n",
    "print()\n",
    "print()\n",
    "print(\"Training completed....\")\n",
    "print()\n",
    "print(\"Testing invoked\")\n",
    "ypred=lin_reg.predict(xtest)\n",
    "print(\"predicted Total Payment\\n\",ypred)\n",
    "print('\\n Testing is also completed....\\n')"
   ]
  },
  {
   "cell_type": "code",
   "execution_count": 13,
   "id": "67cdd5f1",
   "metadata": {},
   "outputs": [
    {
     "data": {
      "text/plain": [
       "316    4060000\n",
       "77     6650000\n",
       "360    3710000\n",
       "90     6440000\n",
       "493    2800000\n",
       "        ...   \n",
       "15     9100000\n",
       "357    3773000\n",
       "39     7910000\n",
       "54     7350000\n",
       "155    5530000\n",
       "Name: price, Length: 109, dtype: int64"
      ]
     },
     "execution_count": 13,
     "metadata": {},
     "output_type": "execute_result"
    }
   ],
   "source": [
    "ytest"
   ]
  },
  {
   "cell_type": "code",
   "execution_count": 14,
   "id": "87873246",
   "metadata": {},
   "outputs": [
    {
     "data": {
      "text/plain": [
       "316   -9.640603e+05\n",
       "77     1.370502e+06\n",
       "360   -5.222028e+05\n",
       "90     1.799097e+06\n",
       "493   -1.398144e+06\n",
       "           ...     \n",
       "15     4.033367e+06\n",
       "357   -1.689562e+06\n",
       "39     2.843367e+06\n",
       "54     2.283367e+06\n",
       "155    4.207937e+05\n",
       "Name: price, Length: 109, dtype: float64"
      ]
     },
     "execution_count": 14,
     "metadata": {},
     "output_type": "execute_result"
    }
   ],
   "source": [
    "diff=ytest-ypred\n",
    "diff"
   ]
  },
  {
   "cell_type": "code",
   "execution_count": 21,
   "id": "c0831162",
   "metadata": {},
   "outputs": [
    {
     "data": {
      "text/plain": [
       "Text(0, 0.5, 'Price')"
      ]
     },
     "execution_count": 21,
     "metadata": {},
     "output_type": "execute_result"
    },
    {
     "data": {
      "image/png": "[encoded data removed]",
      "text/plain": [
       "<Figure size 432x288 with 1 Axes>"
      ]
     },
     "metadata": {
      "needs_background": "light"
     },
     "output_type": "display_data"
    }
   ],
   "source": [
    "plt.scatter(xtrain,ytrain,color=\"gold\")\n",
    "plt.plot(xtrain['area'], lin_reg.predict(xtrain))\n",
    "plt.title(\"real estate\")\n",
    "plt.xlabel(\"Area\")\n",
    "plt.ylabel(\"Price\")"
   ]
  },
  {
   "cell_type": "code",
   "execution_count": 22,
   "id": "0fd8a7b2",
   "metadata": {},
   "outputs": [
    {
     "name": "stdout",
     "output_type": "stream",
     "text": [
      "Simple Linear Regression Results:\n",
      "Mean Squared Error (MSE): 3675286604768.185\n",
      "R-squared (R2): 0.27287851871974644\n"
     ]
    }
   ],
   "source": [
    "import pandas as pd\n",
    "from sklearn.model_selection import train_test_split\n",
    "from sklearn.linear_model import LinearRegression\n",
    "from sklearn.metrics import mean_squared_error, r2_score\n",
    "import numpy as np\n",
    "\n",
    "data = pd.read_csv('Housing.csv')\n",
    "\n",
    "X_simple = data[['area']]\n",
    "y_simple = data['price']\n",
    "X_train_simple, X_test_simple, y_train_simple, y_test_simple = train_test_split(X_simple, y_simple, test_size=0.2, random_state=42)\n",
    "\n",
    "simple_model = LinearRegression()\n",
    "simple_model.fit(X_train_simple, y_train_simple)\n",
    "y_pred_simple = simple_model.predict(X_test_simple)\n",
    "mse_simple = mean_squared_error(y_test_simple, y_pred_simple)\n",
    "r2_simple = r2_score(y_test_simple, y_pred_simple)\n",
    "\n",
    "\n",
    "print(\"Simple Linear Regression Results:\")\n",
    "print(\"Mean Squared Error (MSE):\", mse_simple)\n",
    "print(\"R-squared (R2):\", r2_simple)\n"
   ]
  },
  {
   "cell_type": "code",
   "execution_count": 23,
   "id": "cca6898f",
   "metadata": {},
   "outputs": [
    {
     "name": "stdout",
     "output_type": "stream",
     "text": [
      "Mean Absolute Error (MAE): 1265275.6699454375\n",
      "Mean Squared Error (MSE): 2750040479309.0513\n",
      "Root Mean Squared Error (RMSE): 1658324.6001036863\n"
     ]
    }
   ],
   "source": [
    "import pandas as pd\n",
    "from sklearn.model_selection import train_test_split\n",
    "from sklearn.linear_model import LinearRegression\n",
    "from sklearn.metrics import mean_absolute_error, mean_squared_error\n",
    "import numpy as np\n",
    "data = pd.read_csv('Housing.csv')\n",
    "X = data[['area', 'bedrooms', 'bathrooms']] \n",
    "y = data['price'] \n",
    "X_train, X_test, y_train, y_test = train_test_split(X, y, test_size=0.2, random_state=42)\n",
    "model = LinearRegression()\n",
    "model.fit(X_train, y_train)\n",
    "y_pred = model.predict(X_test)\n",
    "mae = mean_absolute_error(y_test, y_pred)\n",
    "mse = mean_squared_error(y_test, y_pred)\n",
    "rmse = np.sqrt(mse)\n",
    "\n",
    "print(\"Mean Absolute Error (MAE):\", mae)\n",
    "print(\"Mean Squared Error (MSE):\", mse)\n",
    "print(\"Root Mean Squared Error (RMSE):\", rmse)"
   ]
  }
 ],
 "metadata": {
  "kernelspec": {
   "display_name": "Python 3 (ipykernel)",
   "language": "python",
   "name": "python3"
  },
  "language_info": {
   "codemirror_mode": {
    "name": "ipython",
    "version": 3
   },
   "file_extension": ".py",
   "mimetype": "text/x-python",
   "name": "python",
   "nbconvert_exporter": "python",
   "pygments_lexer": "ipython3",
   "version": "3.9.12"
  }
 },
 "nbformat": 4,
 "nbformat_minor": 5
}
